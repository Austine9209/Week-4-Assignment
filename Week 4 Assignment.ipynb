{
 "cells": [
  {
   "cell_type": "code",
   "execution_count": 1,
   "id": "5a7290e7-cbd3-49a7-88f8-2cdb0265dda2",
   "metadata": {},
   "outputs": [
    {
     "name": "stdout",
     "output_type": "stream",
     "text": [
      "The string 'racecar' is a palindrome: True\n"
     ]
    }
   ],
   "source": [
    "def is_palindrome(s):\n",
    "    #create a stack\n",
    "    stack = []\n",
    "\n",
    "    # Push all characters of the string onto the stack\n",
    "    for char in s:\n",
    "        stack.append(char)\n",
    "\n",
    "    # Check if the string is a palindrome\n",
    "    for char in s:\n",
    "        if char != stack.pop():\n",
    "            return False\n",
    "    return True\n",
    "\n",
    "# Example usage\n",
    "string_to_check = \"racecar\"\n",
    "result = is_palindrome(string_to_check)\n",
    "print(f\"The string '{string_to_check}' is a palindrome: {result}\")"
   ]
  },
  {
   "cell_type": "code",
   "execution_count": 15,
   "id": "addc38a2-1bbd-4a32-a886-a7f7eb7c671f",
   "metadata": {},
   "outputs": [
    {
     "name": "stdout",
     "output_type": "stream",
     "text": [
      "Squares for numbers from 0 to 9: [0, 1, 4, 9, 16, 25, 36, 49, 64, 81]\n",
      "Even Numbers: [0, 2, 4, 6, 8, 10, 12, 14, 16, 18]\n",
      "Uppercase words: ['HELLO', 'WORLD', 'PYTHON']\n"
     ]
    }
   ],
   "source": [
    "# Explain the concept of list comprehension in Python with at least three examples.\n",
    "# Example 1: Squaring Numbers\n",
    "# Suppose you want to create a list of squares for numbers from 0 to 9.\n",
    "squares = [x**2 for x in range(10)]\n",
    "print(\"Squares for numbers from 0 to 9:\", squares)\n",
    "\n",
    "#Example 2: Filtering Even Numbers\n",
    "evens = [x for x in range(20) if x % 2 == 0]\n",
    "print(\"Even Numbers:\", evens)\n",
    "\n",
    "### Example 3: Converting Strings to Uppercase\n",
    "words = ['hello', 'world', 'python']\n",
    "uppercase_words = [word.upper() for word in words]\n",
    "print(\"Uppercase words:\", uppercase_words)"
   ]
  },
  {
   "cell_type": "code",
   "execution_count": 23,
   "id": "97acf19d-90a4-416d-99e2-4443e65585c9",
   "metadata": {},
   "outputs": [
    {
     "name": "stdout",
     "output_type": "stream",
     "text": [
      "List: [1, 'Nairobi', 9.455, True]\n",
      "Dictionary: {'name': 'Austine', 'age': 25, 'is_dataanalyst': True}\n",
      "Tuple: (10, 'ten', 10.0)\n"
     ]
    }
   ],
   "source": [
    "# Compound Datatype\n",
    "# Example 1: List: A list can contain elements of different types.\n",
    "my_list = [1, 'Nairobi', 9.455, True]\n",
    "print(\"List:\", my_list)\n",
    "\n",
    "#Example 2: Dictionary: A dictionary maps keys to values, and the keys and values can be of different types.\n",
    "my_dict = {\n",
    "    'name': 'Austine',\n",
    "    'age': 25,\n",
    "    'is_dataanalyst': True\n",
    "}\n",
    "print(\"Dictionary:\", my_dict)\n",
    "\n",
    "# Example 3: Tuple: A tuple can store a sequence of elements of different types and is immutable.\n",
    "my_tuple = (10, \"ten\", 10.0)\n",
    "print(\"Tuple:\", my_tuple)"
   ]
  },
  {
   "cell_type": "code",
   "execution_count": 25,
   "id": "e16883e8-3b7d-4817-9d6f-91430cf56e84",
   "metadata": {},
   "outputs": [
    {
     "name": "stdout",
     "output_type": "stream",
     "text": [
      "['he', 'el', 'll', 'lo']\n"
     ]
    }
   ],
   "source": [
    "# Function to Return a List of Bigrams\n",
    "def get_bigrams(s):\n",
    "    bigrams = [s[i:i+2] for i in range(len(s)-1)]\n",
    "    return bigrams\n",
    "\n",
    "# Example usage:\n",
    "s = \"hello\"\n",
    "print(get_bigrams(s)) "
   ]
  },
  {
   "cell_type": "code",
   "execution_count": 27,
   "id": "217ba766-888c-4236-abb2-38769d019b38",
   "metadata": {},
   "outputs": [
    {
     "name": "stdout",
     "output_type": "stream",
     "text": [
      "The key with the closest value 'a' is: b\n"
     ]
    }
   ],
   "source": [
    "# Function to Find the Closest Key\n",
    "def closest_key(input_dict, target_value):\n",
    "    closest_index = float('inf')  # Initialize to infinity\n",
    "    closest_key = None\n",
    "\n",
    "    # Iterate through the dictionary\n",
    "    for key, value_list in input_dict.items():\n",
    "        if target_value in value_list:\n",
    "            index = value_list.index(target_value)  # Get the index of the target value\n",
    "            if index < closest_index:  # Check if this index is closer to the beginning\n",
    "                closest_index = index\n",
    "                closest_key = key\n",
    "\n",
    "    return closest_key\n",
    "\n",
    "# Example usage\n",
    "example_dict = {\n",
    "    'a': ['x', 'y', 'z'],\n",
    "    'b': ['a', 'b', 'c'],\n",
    "    'c': ['d', 'a', 'e'],\n",
    "    'd': ['f', 'g', 'a']\n",
    "}\n",
    "\n",
    "target_value = 'a'\n",
    "result = closest_key(example_dict, target_value)\n",
    "print(f\"The key with the closest value '{target_value}' is: {result}\") "
   ]
  },
  {
   "cell_type": "code",
   "execution_count": null,
   "id": "93db4beb-9263-4fec-8c15-a755db2f106b",
   "metadata": {},
   "outputs": [],
   "source": []
  }
 ],
 "metadata": {
  "kernelspec": {
   "display_name": "Python 3 (ipykernel)",
   "language": "python",
   "name": "python3"
  },
  "language_info": {
   "codemirror_mode": {
    "name": "ipython",
    "version": 3
   },
   "file_extension": ".py",
   "mimetype": "text/x-python",
   "name": "python",
   "nbconvert_exporter": "python",
   "pygments_lexer": "ipython3",
   "version": "3.12.4"
  }
 },
 "nbformat": 4,
 "nbformat_minor": 5
}
